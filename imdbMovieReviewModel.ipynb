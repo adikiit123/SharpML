{
  "nbformat": 4,
  "nbformat_minor": 0,
  "metadata": {
    "colab": {
      "name": "Untitled0.ipynb",
      "version": "0.3.2",
      "provenance": [],
      "include_colab_link": true
    },
    "kernelspec": {
      "name": "python3",
      "display_name": "Python 3"
    }
  },
  "cells": [
    {
      "cell_type": "markdown",
      "metadata": {
        "id": "view-in-github",
        "colab_type": "text"
      },
      "source": [
        "<a href=\"https://colab.research.google.com/github/adikiit123/SharpML/blob/master/imdbMovieReviewModel.ipynb\" target=\"_parent\"><img src=\"https://colab.research.google.com/assets/colab-badge.svg\" alt=\"Open In Colab\"/></a>"
      ]
    },
    {
      "metadata": {
        "id": "Hmx2NDg8Wz7Z",
        "colab_type": "code",
        "colab": {
          "base_uri": "https://localhost:8080/",
          "height": 357
        },
        "outputId": "294c8256-bd9f-4ea3-dc51-ee93fd906d3e"
      },
      "cell_type": "code",
      "source": [
        "from keras.datasets import imdb\n",
        "from keras.layers import Dense,Embedding,Flatten\n",
        "from keras.models import Sequential\n",
        "from keras.optimizers import SGD\n",
        "from keras.losses import binary_crossentropy\n",
        "from keras.preprocessing import sequence\n",
        "\n",
        "vocabSize = 10000;\n",
        "vectorMaxLength = 500;\n",
        "\n",
        "(xTrain,yTrain),(xTest,yTest) = imdb.load_data(num_words = vocabSize)\n",
        "\n",
        "xTrain = sequence.pad_sequences(xTrain,maxlen = vectorMaxLength)\n",
        "xTest = sequence.pad_sequences(xTest,maxlen = vectorMaxLength)\n",
        "\n",
        "movieModel = Sequential()\n",
        "\n",
        "wordToVecLayer = Embedding(vocabSize,64,input_length = vectorMaxLength)\n",
        "flattenedVector = Flatten()\n",
        "hiddenLayer1 = Dense(32,activation = 'relu')\n",
        "hiddenLayer2 = Dense(16,activation = 'relu')\n",
        "outputLayer = Dense(1,activation = 'sigmoid')\n",
        "\n",
        "movieModel.add(wordToVecLayer)\n",
        "movieModel.add(flattenedVector)\n",
        "movieModel.add(hiddenLayer1)\n",
        "movieModel.add(hiddenLayer2)\n",
        "movieModel.add(outputLayer)\n",
        "\n",
        "sgdOptimizer = SGD(lr=0.01, decay=1e-6, momentum=0.9, nesterov=True)\n",
        "\n",
        "movieModel.compile(sgdOptimizer,loss = binary_crossentropy,metrics = ['accuracy'])\n",
        "movieModel.fit(xTrain,yTrain,100,10)\n",
        "(loss,accuracy) = movieModel.evaluate(xTest,yTest,50,50)\n",
        "\n",
        "\n",
        "\n",
        "\n",
        "\n",
        "\n",
        "\n"
      ],
      "execution_count": 13,
      "outputs": [
        {
          "output_type": "stream",
          "text": [
            "Epoch 1/10\n",
            "25000/25000 [==============================] - 14s 554us/step - loss: 0.6926 - acc: 0.5130\n",
            "Epoch 2/10\n",
            "25000/25000 [==============================] - 13s 532us/step - loss: 0.6868 - acc: 0.5526\n",
            "Epoch 3/10\n",
            "25000/25000 [==============================] - 13s 530us/step - loss: 0.6430 - acc: 0.6614\n",
            "Epoch 4/10\n",
            "25000/25000 [==============================] - 13s 529us/step - loss: 0.4691 - acc: 0.7858\n",
            "Epoch 5/10\n",
            "25000/25000 [==============================] - 13s 527us/step - loss: 0.3263 - acc: 0.8633\n",
            "Epoch 6/10\n",
            "25000/25000 [==============================] - 13s 528us/step - loss: 0.2101 - acc: 0.9218\n",
            "Epoch 7/10\n",
            "25000/25000 [==============================] - 13s 528us/step - loss: 0.1292 - acc: 0.9583\n",
            "Epoch 8/10\n",
            "25000/25000 [==============================] - 13s 529us/step - loss: 0.0690 - acc: 0.9826\n",
            "Epoch 9/10\n",
            "25000/25000 [==============================] - 13s 534us/step - loss: 0.2459 - acc: 0.9045\n",
            "Epoch 10/10\n",
            "25000/25000 [==============================] - 15s 589us/step - loss: 0.0331 - acc: 0.9922\n"
          ],
          "name": "stdout"
        }
      ]
    }
  ]
}