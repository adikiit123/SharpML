{
  "nbformat": 4,
  "nbformat_minor": 0,
  "metadata": {
    "colab": {
      "name": "CifarLeNet5.ipynb",
      "version": "0.3.2",
      "provenance": [],
      "include_colab_link": true
    },
    "kernelspec": {
      "name": "python3",
      "display_name": "Python 3"
    }
  },
  "cells": [
    {
      "cell_type": "markdown",
      "metadata": {
        "id": "view-in-github",
        "colab_type": "text"
      },
      "source": [
        "<a href=\"https://colab.research.google.com/github/adikiit123/SharpML/blob/master/CifarLeNet5.ipynb\" target=\"_parent\"><img src=\"https://colab.research.google.com/assets/colab-badge.svg\" alt=\"Open In Colab\"/></a>"
      ]
    },
    {
      "metadata": {
        "id": "3LtD10B5z3XS",
        "colab_type": "code",
        "colab": {}
      },
      "cell_type": "code",
      "source": [
        "from keras.datasets import cifar10\n",
        "from keras.initializers import TruncatedNormal\n",
        "from keras.losses import categorical_crossentropy\n",
        "from keras.layers import Conv2D\n",
        "from keras.layers import MaxPooling2D\n",
        "from keras.layers import Dropout\n",
        "from keras.layers import Dense\n",
        "from keras.layers import Flatten\n",
        "from keras.models import Sequential\n",
        "from keras.utils import np_utils\n",
        "from keras.optimizers import SGD\n",
        "\n",
        "(xTrain,yTrain),(xTest,yTest) =  cifar10.load_data()\n",
        "\n",
        "yTrain = np_utils.to_categorical(yTrain,10)\n",
        "yTest = np_utils.to_categorical(yTest,10)\n",
        "\n",
        "deepModel = Sequential()\n",
        "\n",
        "# 1st Convolution Kernel followed by Max Pool Layer with a Dropout Prob of 0.4\n",
        "convKernel1 = Conv2D(32, (5, 5), activation='relu', input_shape=(32, 32, 3))\n",
        "maxPool1 = MaxPooling2D(pool_size=(2, 2))\n",
        "dropOut1 = Dropout(0.4)\n",
        "\n",
        "# 2nd Convolution Kernel followed by Max Pool Layer with a Dropout Prob of 0.4\n",
        "convKernel2 = Conv2D(64, (5, 5), activation='relu', input_shape=(28, 28, 3))\n",
        "maxPool2 = MaxPooling2D(pool_size=(2, 2))\n",
        "dropOut2 = Dropout(0.4)\n",
        "\n",
        "deepModel.add(convKernel1)\n",
        "deepModel.add(maxPool1)\n",
        "deepModel.add(dropOut1)\n",
        "deepModel.add(convKernel2)\n",
        "deepModel.add(maxPool2)\n",
        "deepModel.add(dropOut2)\n",
        "\n",
        "# Flattening the network\n",
        "deepModel.add(Flatten())\n",
        "\n",
        "# ANN with FC Layer and O/P Layer\n",
        "fullyConnected1 = Dense(128, activation = 'relu')\n",
        "fullyConnected2 = Dense(64,activation = 'relu')\n",
        "outputLayer = Dense(10,activation = 'softmax')\n",
        "\n",
        "deepModel.add(fullyConnected1)\n",
        "deepModel.add(fullyConnected2)\n",
        "deepModel.add(outputLayer)\n",
        "\n",
        "sgdOptimizer = sgd = SGD(lr=0.01, decay=1e-6, momentum=0.5, nesterov=True)\n",
        "deepModel.compile(sgdOptimizer,loss = categorical_crossentropy,metrics = ['accuracy'])\n",
        "deepModel.fit(xTrain,yTrain,100,200)\n",
        "deepModel.evaluate(xTest,yTest,100,100)\n",
        "\n",
        "\n",
        "\n",
        "\n",
        "\n",
        "\n"
      ],
      "execution_count": 0,
      "outputs": []
    }
  ]
}